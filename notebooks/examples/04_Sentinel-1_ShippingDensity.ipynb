{
 "cells": [
  {
   "cell_type": "code",
   "execution_count": null,
   "metadata": {},
   "outputs": [],
   "source": [
    "from pystac_client import Client\n",
    "from odc.stac import load\n",
    "\n",
    "from planetary_computer import sign_url\n",
    "from ipyleaflet import basemaps, basemap_to_tiles\n",
    "\n",
    "import numpy as np\n",
    "from odc.ui import select_on_a_map\n",
    "\n",
    "import warnings\n",
    "import folium"
   ]
  },
  {
   "cell_type": "code",
   "execution_count": null,
   "metadata": {},
   "outputs": [],
   "source": [
    "# Microsoft Planetary Computer STAC Catalog URL\n",
    "catalog = \"https://planetarycomputer.microsoft.com/api/stac/v1\"\n",
    "\n",
    "# Create a STAC Client\n",
    "client = Client.open(catalog)\n",
    "\n",
    "# Parameters for the query\n",
    "collection = \"sentinel-1-rtc\"\n",
    "datetime = \"2024\""
   ]
  },
  {
   "cell_type": "code",
   "execution_count": null,
   "metadata": {},
   "outputs": [],
   "source": [
    "# Set study area name for outputs\n",
    "study_area = \"se-asia\"\n",
    "\n",
    "# Plot interactive map to select area\n",
    "basemap = basemap_to_tiles(basemaps.Esri.WorldImagery)\n",
    "geom = select_on_a_map(height=\"600px\", layers=(basemap,), center=(12, 120), zoom=4)\n",
    "geom"
   ]
  },
  {
   "cell_type": "code",
   "execution_count": null,
   "metadata": {},
   "outputs": [],
   "source": [
    "items = client.search(\n",
    "    collections=[\"sentinel-1-rtc\"],\n",
    "    intersects=geom,\n",
    "    datetime=datetime\n",
    ").item_collection()\n",
    "\n",
    "print(f\"Found {len(items)} items\")"
   ]
  },
  {
   "cell_type": "code",
   "execution_count": null,
   "metadata": {},
   "outputs": [],
   "source": [
    "data = load(\n",
    "    items,\n",
    "    geopolygon=geom,\n",
    "    measurements=[\"vv\", \"vh\"],\n",
    "    groupby=\"solar_day\",\n",
    "    chunks={\"x\": 2048, \"y\": 2048},\n",
    "    patch_url=sign_url,\n",
    ")\n",
    "\n",
    "# Convert to decibels\n",
    "data[\"vv_db\"] = 10 * np.log10(data.vv)\n",
    "data[\"vh_db\"] = 10 * np.log10(data.vh)\n",
    "\n",
    "data"
   ]
  },
  {
   "cell_type": "code",
   "execution_count": null,
   "metadata": {},
   "outputs": [],
   "source": [
    "# Supress the RuntimeWarning for log10(0)\n",
    "warnings.filterwarnings(\"ignore\", category=RuntimeWarning)\n",
    "\n",
    "vv_max = data.vv_db.max(dim=[\"time\"]).compute()\n",
    "vh_max = data.vh_db.max(dim=[\"time\"]).compute()"
   ]
  },
  {
   "cell_type": "code",
   "execution_count": null,
   "metadata": {},
   "outputs": [],
   "source": [
    "m = folium.Map()\n",
    "\n",
    "vv_max.odc.add_to(m, cmap=\"viridis\", name=\"VV max\")\n",
    "vh_max.odc.add_to(m, cmap=\"viridis\", name=\"VH max\")\n",
    "\n",
    "folium.LayerControl().add_to(m)\n",
    "m.fit_bounds(vv_max.odc.map_bounds())\n",
    "m"
   ]
  },
  {
   "cell_type": "code",
   "execution_count": null,
   "metadata": {},
   "outputs": [],
   "source": []
  }
 ],
 "metadata": {
  "kernelspec": {
   "display_name": "Python 3",
   "language": "python",
   "name": "python3"
  },
  "language_info": {
   "codemirror_mode": {
    "name": "ipython",
    "version": 3
   },
   "file_extension": ".py",
   "mimetype": "text/x-python",
   "name": "python",
   "nbconvert_exporter": "python",
   "pygments_lexer": "ipython3",
   "version": "3.11.9"
  }
 },
 "nbformat": 4,
 "nbformat_minor": 2
}
