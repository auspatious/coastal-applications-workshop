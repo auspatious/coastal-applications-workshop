{
 "cells": [
  {
   "cell_type": "markdown",
   "id": "13bbf676-fbce-49e7-9843-a03ce4424428",
   "metadata": {},
   "source": [
    "# Generating DEA Intertidal Elevation using global satellite data using `odc-stac`\n",
    "\n",
    "This notebook demonstrates how to generate DEA Intertidal Elevation outputs on Sentinel-2 and Landsat data loaded from Microsoft Planetary Computer using STAC metadata via `odc-stac`.\n",
    "\n",
    "In this example, we generate an intertidal Digital Elevation Model for **Incheon, South Korea** using the [global EOT20 tide model](https://seanoe.org/data/00683/79489/). For more information on setting up tide models for DEA Intertidal, refer to the [wiki guide located here](https://github.com/GeoscienceAustralia/dea-coastlines/wiki/Setting-up-tidal-models-for-DEA-Coastlines).\n",
    "\n",
    "<div class=\"alert alert-info\">\n",
    "    \n",
    "**Note:** This is an experimental notebook provided for demonstration purposes. Code provided for loading and pre-processing Microsoft Planetary Computer Landsat and Sentinel-2 data is not optimised and can likely be improved to produce a higher quality output product.\n",
    "\n",
    "</div>\n",
    "\n",
    "**EDIT: modified from the original, here: https://github.com/GeoscienceAustralia/dea-intertidal/blob/rbt/notebooks/Intertidal_elevation_stac.ipynb**"
   ]
  },
  {
   "cell_type": "markdown",
   "id": "306a1f55-3f9d-4996-be95-e11e5a74a86b",
   "metadata": {},
   "source": [
    "## Getting started\n",
    "\n",
    "Install additional packages directly from the requirements file"
   ]
  },
  {
   "cell_type": "code",
   "execution_count": null,
   "id": "d67433e6-0408-40d1-be61-db49c52f88dc",
   "metadata": {
    "tags": []
   },
   "outputs": [],
   "source": [
    "%pip install git+https://github.com/GeoscienceAustralia/dea-intertidal.git"
   ]
  },
  {
   "cell_type": "markdown",
   "id": "4244cc06-b5e7-4120-8514-adf35082cb2c",
   "metadata": {},
   "source": [
    "### Load packages"
   ]
  },
  {
   "cell_type": "code",
   "execution_count": null,
   "id": "67df5808-fa99-4c4c-860e-b02001896270",
   "metadata": {
    "tags": []
   },
   "outputs": [],
   "source": [
    "%load_ext autoreload\n",
    "%autoreload 2\n",
    "\n",
    "import os\n",
    "import numpy as np\n",
    "import xarray as xr\n",
    "import matplotlib.pyplot as plt\n",
    "from ipyleaflet import basemaps, basemap_to_tiles\n",
    "\n",
    "import datacube\n",
    "import odc.geo.xr\n",
    "from odc.ui import select_on_a_map\n",
    "from dea_tools.dask import create_local_dask_cluster\n",
    "\n",
    "from intertidal.io import prepare_for_export\n",
    "from intertidal.elevation import elevation"
   ]
  },
  {
   "cell_type": "code",
   "execution_count": null,
   "id": "935057ff-f0b2-4d29-b137-2faf8655463c",
   "metadata": {
    "tags": []
   },
   "outputs": [],
   "source": [
    "def pc_load(\n",
    "    product,\n",
    "    time=None,\n",
    "    x=None,\n",
    "    y=None,\n",
    "    geom=None,\n",
    "    stac_query=None,\n",
    "    url=\"https://planetarycomputer.microsoft.com/api/stac/v1\",\n",
    "    **load_params,\n",
    "):\n",
    "    \"\"\"\n",
    "    Loads data from Microsoft Planetary Computer into an\n",
    "    `xarray.Dataset` using `odc-stac`.\n",
    "\n",
    "    Parameters\n",
    "    ----------\n",
    "    product : str\n",
    "        The name of the product to load.\n",
    "    time : tuple, optional\n",
    "        The time range to load data for as a tuple of strings (e.g.\n",
    "        `(\"2020\", \"2021\")`. If not provided, data will be loaded for\n",
    "        all available timesteps.\n",
    "    x, y : tuple, optional\n",
    "        Tuples defining the x and y bounding box to load, in WGS 84.\n",
    "    geom : datacube Geometry, optional\n",
    "        A datacube geometry object representing the spatial extents to\n",
    "        load data for. If provided, `x` and `y` will be ignored.\n",
    "    stac_query : dict, optional\n",
    "        A query dictionary to further filter the data using STAC metadata.\n",
    "        If not provided, no additional filtering will be applied.\n",
    "    url : str, optional\n",
    "        The URL of the Planetary Computer STAC API.\n",
    "        Defaults to \"https://planetarycomputer.microsoft.com/api/stac/v1\".\n",
    "    **load_params : dict\n",
    "        Additional parameters to be passed to `odc.stac.load()`.\n",
    "\n",
    "    Returns\n",
    "    -------\n",
    "    ds : xarray.Dataset\n",
    "        The loaded dataset as an `xarray.Dataset`.\n",
    "    items : pystac.item_collection.ItemCollection\n",
    "        STAC items returned by `pystac_client`.\n",
    "    \"\"\"\n",
    "\n",
    "    import odc.stac\n",
    "    import planetary_computer\n",
    "    import pystac_client\n",
    "    from odc.geo.geom import BoundingBox\n",
    "\n",
    "    # Connect to client\n",
    "    catalog = pystac_client.Client.open(\n",
    "        url,\n",
    "        modifier=planetary_computer.sign_inplace\n",
    "        if \"planetarycomputer\" in url\n",
    "        else None,\n",
    "    )\n",
    "\n",
    "    # Set up time for query\n",
    "    time_range = \"/\".join(time) if time is not None else None\n",
    "\n",
    "    # Set up bounding box for query\n",
    "    if geom is not None:\n",
    "        bbox = geom.boundingbox\n",
    "    else:\n",
    "        bbox = BoundingBox.from_xy(x, y)\n",
    "\n",
    "    # Ensure longitude is between -180 to 180:\n",
    "    if (bbox.left >= 180) or (bbox.right >= 180):\n",
    "        bbox = BoundingBox(\n",
    "            left=bbox.left - 360,\n",
    "            bottom=bbox.bottom,\n",
    "            right=bbox.right - 360,\n",
    "            top=bbox.top,\n",
    "        )\n",
    "\n",
    "    search = catalog.search(\n",
    "        collections=product,\n",
    "        bbox=bbox,\n",
    "        datetime=time_range,\n",
    "        query=stac_query if stac_query is not None else None,\n",
    "    )\n",
    "\n",
    "    # Check how many items were returned\n",
    "    items = search.item_collection()\n",
    "    print(f\"Found {len(items)} STAC items for {product}\")\n",
    "\n",
    "    # Load with ODC STAC\n",
    "    ds = odc.stac.load(\n",
    "        items=items,\n",
    "        bbox=bbox,\n",
    "        **load_params,\n",
    "    )\n",
    "\n",
    "    return ds, items\n",
    "\n",
    "\n",
    "def load_ls_s2(\n",
    "    x=None,\n",
    "    y=None,\n",
    "    geom=None,\n",
    "    start_date=\"2020\",\n",
    "    end_date=\"2021\",\n",
    "    resolution=30,\n",
    "    cloud_cover=80,\n",
    "    fail_on_error=False,\n",
    "):\n",
    "    \"\"\"\n",
    "    Load NDWI from Landsat and Sentinel-2 hosted on Microsoft Planetary\n",
    "    Computer.\n",
    "\n",
    "    Parameters\n",
    "    ----------\n",
    "    x, y : tuple, optional\n",
    "        Tuples defining the x and y bounding box to load, in WGS 84.\n",
    "    geom : datacube Geometry, optional\n",
    "        A datacube geometry object representing the spatial extents to\n",
    "        load data for. If provided, `x` and `y` will be ignored.\n",
    "    start_date, end_date : strings, optional\n",
    "        The start and end of the time period to load, expressed as\n",
    "        strings (e.g. \"2020\", \"2021\"; \"2020-01\", \"2021-02\")\n",
    "    resolution : int, optional\n",
    "        Spatial resolution to load data in. Defaults to 30 metres.\n",
    "    cloud cover : int, optional\n",
    "        The maximum threshold of cloud cover to load. Defaults to 80%.\n",
    "\n",
    "    Returns\n",
    "    -------\n",
    "    satellite_ds : xarray.Dataset\n",
    "        The loaded dataset as an `xarray.Dataset`, containing a single\n",
    "        \"ndwi\" `xarray.DataArray`.\n",
    "    \"\"\"\n",
    "\n",
    "    query_params = dict(\n",
    "        time=(start_date, end_date),\n",
    "        geom=geom if geom is not None else None,\n",
    "        x=x if geom is None else None,\n",
    "        y=y if geom is None else None,\n",
    "    )\n",
    "\n",
    "    load_params = dict(\n",
    "        crs=\"utm\",\n",
    "        resolution=resolution,\n",
    "        chunks={\"x\": 2048, \"y\": 2048},\n",
    "        groupby=\"solar_day\",\n",
    "        resampling={\"qa_pixel\": \"nearest\", \"SCL\": \"nearest\", \"*\": \"cubic\"},\n",
    "        fail_on_error=fail_on_error,\n",
    "    )\n",
    "\n",
    "    # Load Landsat\n",
    "    ds_ls, items_ls = pc_load(\n",
    "        product=\"landsat-c2-l2\",\n",
    "        bands=(\"green\", \"nir08\", \"qa_pixel\"),\n",
    "        stac_query={\n",
    "            \"eo:cloud_cover\": {\"lt\": cloud_cover},\n",
    "            \"platform\": {\"in\": [\"landsat-5\", \"landsat-8\", \"landsat-9\"]},\n",
    "            \"landsat:collection_category\": {\"in\": [\"T1\"]},\n",
    "        },\n",
    "        **query_params,\n",
    "        **load_params,\n",
    "    )\n",
    "\n",
    "    # Load Sentinel-2\n",
    "    ds_s2, items_s2 = pc_load(\n",
    "        product=\"sentinel-2-l2a\",\n",
    "        bands=(\"green\", \"nir\", \"SCL\"),\n",
    "        stac_query={\n",
    "            \"eo:cloud_cover\": {\"lt\": cloud_cover},\n",
    "        },\n",
    "        **query_params,\n",
    "        **load_params,\n",
    "    )\n",
    "\n",
    "    # Apply Landsat cloud mask\n",
    "    cloud_mask = (\n",
    "        # Bit 3: high confidence cloud, bit 4: high confidence shadow\n",
    "        # https://medium.com/analytics-vidhya/python-for-geosciences-\n",
    "        # raster-bit-masks-explained-step-by-step-8620ed27141e\n",
    "        np.bitwise_and(ds_ls.qa_pixel, 1 << 3)\n",
    "        | np.bitwise_and(ds_ls.qa_pixel, 1 << 4)\n",
    "    ) == 0\n",
    "    ds_ls = ds_ls.where(cloud_mask).drop(\"qa_pixel\")\n",
    "\n",
    "    # Apply Sentinel-2 cloud mask\n",
    "    # 1: defective, 3: shadow, 9: high confidence cloud\n",
    "    cloud_mask = ~ds_s2.SCL.isin([1, 3, 9])\n",
    "    ds_s2 = ds_s2.where(cloud_mask).drop(\"SCL\")\n",
    "\n",
    "    # Apply scaling\n",
    "    ds_ls = (ds_ls.where(ds_ls != 0) * 0.0000275 + -0.2).clip(0, 1)\n",
    "    ds_s2 = (ds_s2.where(ds_s2 != 0) * 0.0001).clip(0, 1)\n",
    "\n",
    "    # Convert to NDWI\n",
    "    ndwi_ls = (ds_ls.green - ds_ls.nir08) / (ds_ls.green + ds_ls.nir08)\n",
    "    ndwi_s2 = (ds_s2.green - ds_s2.nir) / (ds_s2.green + ds_s2.nir)\n",
    "\n",
    "    # Combine into a single dataset\n",
    "    satellite_ds = (\n",
    "        xr.concat([ndwi_ls, ndwi_s2], dim=\"time\").sortby(\"time\").to_dataset(name=\"ndwi\")\n",
    "    )\n",
    "\n",
    "    return satellite_ds"
   ]
  },
  {
   "cell_type": "markdown",
   "id": "1a69b01f-bae0-4373-8ed6-e907393407eb",
   "metadata": {
    "tags": []
   },
   "source": [
    "## Setup\n"
   ]
  },
  {
   "cell_type": "markdown",
   "id": "b02efd2f-dab6-41ec-86f0-1724c93cf356",
   "metadata": {},
   "source": [
    "### Set analysis parameters"
   ]
  },
  {
   "cell_type": "code",
   "execution_count": null,
   "id": "8c1dfca3-543d-4e07-9a0f-2eeddf582835",
   "metadata": {
    "tags": []
   },
   "outputs": [],
   "source": [
    "# Intertidal Elevation variables\n",
    "start_date = \"2020\"  # Start date for analysis\n",
    "end_date = \"2022\"  # End date for analysis\n",
    "resolution = 30  # Spatial resolution used for output files\n",
    "ndwi_thresh = 0.1  # Threshold used to identify dry/wet transition\n",
    "tide_model = \"FES2022\"  # Tide model to use in analysis \n",
    "home = os.path.expanduser(\"~\")  # Home directory\n",
    "tide_model_dir = home + \"/tide_models\"  # Directory containing tide model files"
   ]
  },
  {
   "cell_type": "markdown",
   "id": "9b72074d-c4bc-410b-83e1-80295227b81c",
   "metadata": {},
   "source": [
    "##### Load study area using interactive map"
   ]
  },
  {
   "cell_type": "code",
   "execution_count": null,
   "id": "bdcf1c79-ae5a-4453-a7e8-d3f021b0b65a",
   "metadata": {
    "tags": []
   },
   "outputs": [],
   "source": [
    "# Set study area name for outputs\n",
    "study_area = \"incheon\"\n",
    "\n",
    "# Plot interactive map to select area\n",
    "basemap = basemap_to_tiles(basemaps.Esri.WorldImagery)\n",
    "geom = select_on_a_map(height=\"600px\", layers=(basemap,), center=(-26, 135), zoom=4)\n",
    "geom"
   ]
  },
  {
   "cell_type": "markdown",
   "id": "54c892b8-42d3-4930-ad97-e0e214535fc5",
   "metadata": {},
   "source": [
    "## Load data"
   ]
  },
  {
   "cell_type": "code",
   "execution_count": 9,
   "id": "65a8ec80-8f28-4127-b920-9fcf9fffb23d",
   "metadata": {
    "tags": []
   },
   "outputs": [],
   "source": [
    "# Create local dask cluster to improve data load time\n",
    "client = create_local_dask_cluster(return_client=True)\n",
    "\n",
    "# Load data using odc-stac\n",
    "satellite_ds = load_ls_s2(\n",
    "    geom=geom,\n",
    "    resolution=resolution,\n",
    "    start_date=start_date,\n",
    "    end_date=end_date,\n",
    "    cloud_cover=80,\n",
    ")\n",
    "print(satellite_ds)\n",
    "\n",
    "# Load data and close dask client\n",
    "satellite_ds.load()"
   ]
  },
  {
   "cell_type": "markdown",
   "id": "c34949eb-96f1-4844-ad6e-aeb71399e9f5",
   "metadata": {},
   "source": [
    "## Generate Intertidal elevation"
   ]
  },
  {
   "cell_type": "code",
   "execution_count": null,
   "id": "32807d11-3e08-4a87-9e64-e2460ba0ed6c",
   "metadata": {
    "tags": []
   },
   "outputs": [],
   "source": [
    "# Model elevation for each pixel\n",
    "ds, _ = elevation(\n",
    "    satellite_ds,\n",
    "    tide_model=tide_model,\n",
    "    tide_model_dir=tide_model_dir,\n",
    ")"
   ]
  },
  {
   "cell_type": "markdown",
   "id": "7b6d6c7e-a659-4acc-88d3-39e2bb4fc3d6",
   "metadata": {},
   "source": [
    "### Plot outputs"
   ]
  },
  {
   "cell_type": "code",
   "execution_count": null,
   "id": "bace94ca-be78-4339-b01d-32f6162581c8",
   "metadata": {
    "tags": []
   },
   "outputs": [],
   "source": [
    "fix, axes = plt.subplots(1, 4, figsize=(12, 3))\n",
    "ds.elevation.plot.imshow(cmap=\"viridis\", ax=axes[0])\n",
    "ds.elevation_uncertainty.plot.imshow(cmap=\"inferno\", ax=axes[1])\n",
    "ds.qa_ndwi_corr.plot.imshow(cmap=\"RdBu\", vmin=-0.7, vmax=0.7, ax=axes[2])\n",
    "ds.qa_ndwi_freq.plot.imshow(cmap=\"Blues\", vmin=0, vmax=1, ax=axes[3])"
   ]
  },
  {
   "cell_type": "code",
   "execution_count": null,
   "id": "f9ccb4e3-4b04-499b-b9ff-1649c2d31c89",
   "metadata": {
    "tags": []
   },
   "outputs": [],
   "source": [
    "ds.elevation.odc.explore(robust=True)"
   ]
  },
  {
   "cell_type": "markdown",
   "id": "9fcd13e6-db3e-409c-905d-d9f6a9733348",
   "metadata": {},
   "source": [
    "### Export to GeoTIFF files"
   ]
  },
  {
   "cell_type": "code",
   "execution_count": null,
   "id": "9296e76c-12b6-44bb-829b-871f955bbc69",
   "metadata": {
    "tags": []
   },
   "outputs": [],
   "source": [
    "# Create output folder if it doesn't exist\n",
    "output_dir = f\"data/interim/{study_area}/{start_date}-{end_date}\"\n",
    "os.makedirs(output_dir, exist_ok=True)\n",
    "\n",
    "# Prepare data for export\n",
    "ds[\"qa_ndwi_freq\"] *= 100  # Convert frequency to %\n",
    "\n",
    "# Prepare for export by correctly setting nodata and dtypes, then\n",
    "# export to file\n",
    "ds_prepared = prepare_for_export(ds, output_location=output_dir)"
   ]
  },
  {
   "cell_type": "markdown",
   "id": "cd33dfdc-e687-4006-8be2-94f29c6948a8",
   "metadata": {
    "tags": []
   },
   "source": [
    "### Close Dask client"
   ]
  },
  {
   "cell_type": "code",
   "execution_count": null,
   "id": "f7c1f4b8-2941-42c5-8ccf-1b65c8a79acd",
   "metadata": {
    "tags": []
   },
   "outputs": [],
   "source": [
    "client.close()"
   ]
  }
 ],
 "metadata": {
  "kernelspec": {
   "display_name": "Python 3 (ipykernel)",
   "language": "python",
   "name": "python3"
  },
  "language_info": {
   "codemirror_mode": {
    "name": "ipython",
    "version": 3
   },
   "file_extension": ".py",
   "mimetype": "text/x-python",
   "name": "python",
   "nbconvert_exporter": "python",
   "pygments_lexer": "ipython3",
   "version": "3.11.9"
  },
  "widgets": {
   "application/vnd.jupyter.widget-state+json": {
    "state": {
     "2251b59bd17048ce9c8e62138746bb9c": {
      "model_module": "jupyter-leaflet",
      "model_module_version": "2.0.0",
      "model_name": "LeafletDrawControlModel",
      "state": {
       "_view_name": "ErrorWidgetView",
       "data": [
        {
         "geometry": {
          "coordinates": [
           [
            [
             126.187592,
             37.443586
            ],
            [
             126.187592,
             37.627624
            ],
            [
             126.511688,
             37.627624
            ],
            [
             126.511688,
             37.443586
            ],
            [
             126.187592,
             37.443586
            ]
           ]
          ],
          "type": "Polygon"
         },
         "properties": {
          "style": {
           "clickable": true,
           "color": "#000000",
           "fill": true,
           "fillColor": "#fca45d",
           "fillOpacity": 0.1,
           "opacity": 0.5,
           "stroke": true,
           "weight": 4
          }
         },
         "type": "Feature"
        }
       ],
       "error": {},
       "msg": "Failed to load model class 'LeafletDrawControlModel' from module 'jupyter-leaflet'",
       "options": [
        "position"
       ],
       "polygon": {
        "shapeOptions": {
         "color": "#000000",
         "editing": {
          "color": "#000000",
          "fillColor": "#fca45d",
          "fillOpacity": 0.1
         },
         "fillColor": "#fca45d",
         "fillOpacity": 0.1,
         "original": {
          "color": "#000000",
          "fillColor": "#fca45d",
          "fillOpacity": 0.1
         }
        }
       },
       "polyline": {},
       "rectangle": {
        "metric": [
         "km",
         "m"
        ],
        "shapeOptions": {
         "color": "#000000",
         "fillColor": "#fca45d",
         "fillOpacity": 0.1
        }
       }
      }
     },
     "2b71d33ef71d403086e7d15b360ede9b": {
      "model_module": "jupyter-leaflet",
      "model_module_version": "2.0.0",
      "model_name": "LeafletWidgetControlModel",
      "state": {
       "_model_module": "jupyter-leaflet",
       "_view_name": "ErrorWidgetView",
       "error": {},
       "msg": "Failed to load model class 'LeafletWidgetControlModel' from module 'jupyter-leaflet'",
       "options": [
        "position",
        "transparent_bg"
       ],
       "position": "bottomleft",
       "widget": "IPY_MODEL_2cf723a768b9480da0aff79971caed85"
      }
     },
     "319c1f9ec2f44b5393165f445bc8db7e": {
      "model_module": "jupyter-leaflet",
      "model_module_version": "2.0.0",
      "model_name": "LeafletMapStyleModel",
      "state": {
       "_view_name": "ErrorWidgetView",
       "cursor": "move",
       "error": {},
       "msg": "Failed to load model class 'LeafletMapStyleModel' from module 'jupyter-leaflet'"
      }
     },
     "412654a376b146529029c3bcb7576161": {
      "model_module": "jupyter-leaflet",
      "model_module_version": "2.0.0",
      "model_name": "LeafletFullScreenControlModel",
      "state": {
       "_view_name": "ErrorWidgetView",
       "error": {},
       "msg": "Failed to load model class 'LeafletFullScreenControlModel' from module 'jupyter-leaflet'",
       "options": [
        "position"
       ]
      }
     },
     "43d949aa4c494326a2aff82590d0d578": {
      "model_module": "jupyter-leaflet",
      "model_module_version": "2.0.0",
      "model_name": "LeafletMapModel",
      "state": {
       "_view_name": "ErrorWidgetView",
       "bottom": 101511,
       "center": [
        37.57179370689751,
        126.58241271972658
       ],
       "controls": [
        "IPY_MODEL_5d874572f3cd4086ac9414c0b10d905b",
        "IPY_MODEL_c09bc7699fa84aca9889f00e459b2048",
        "IPY_MODEL_412654a376b146529029c3bcb7576161"
       ],
       "default_style": "IPY_MODEL_694085ea29f6466a8ce6e81f5a8e0942",
       "dragging_style": "IPY_MODEL_319c1f9ec2f44b5393165f445bc8db7e",
       "east": 126.58309936523439,
       "error": {},
       "fullscreen": false,
       "interpolation": "bilinear",
       "layers": [
        "IPY_MODEL_67cc257713fb47b687ef01cf7203cf47"
       ],
       "layout": "IPY_MODEL_496ca89cea7742039292848b7574de1a",
       "left": 223247,
       "modisdate": "2024-05-05",
       "msg": "Failed to load model class 'LeafletMapModel' from module 'jupyter-leaflet'",
       "north": 37.57179370689751,
       "options": [
        "bounce_at_zoom_limits",
        "box_zoom",
        "center",
        "close_popup_on_click",
        "double_click_zoom",
        "dragging",
        "fullscreen",
        "inertia",
        "inertia_deceleration",
        "inertia_max_speed",
        "interpolation",
        "keyboard",
        "keyboard_pan_offset",
        "keyboard_zoom_offset",
        "max_zoom",
        "min_zoom",
        "prefer_canvas",
        "scroll_wheel_zoom",
        "tap",
        "tap_tolerance",
        "touch_zoom",
        "world_copy_jump",
        "zoom",
        "zoom_animation_threshold",
        "zoom_delta",
        "zoom_snap"
       ],
       "prefer_canvas": false,
       "right": 223247,
       "scroll_wheel_zoom": true,
       "south": 37.57179370689751,
       "style": "IPY_MODEL_319c1f9ec2f44b5393165f445bc8db7e",
       "top": 101511,
       "west": 126.58309936523439,
       "window_url": "https://app.sandbox.dea.ga.gov.au/user/robbi.bishoptaylor@ga.gov.au/",
       "zoom": 10
      }
     },
     "5d874572f3cd4086ac9414c0b10d905b": {
      "model_module": "jupyter-leaflet",
      "model_module_version": "2.0.0",
      "model_name": "LeafletZoomControlModel",
      "state": {
       "_view_name": "ErrorWidgetView",
       "error": {},
       "msg": "Failed to load model class 'LeafletZoomControlModel' from module 'jupyter-leaflet'",
       "options": [
        "position",
        "zoom_in_text",
        "zoom_in_title",
        "zoom_out_text",
        "zoom_out_title"
       ]
      }
     },
     "67cc257713fb47b687ef01cf7203cf47": {
      "model_module": "jupyter-leaflet",
      "model_module_version": "2.0.0",
      "model_name": "LeafletTileLayerModel",
      "state": {
       "_view_name": "ErrorWidgetView",
       "attribution": "Tiles &copy; Esri &mdash; Source: Esri, i-cubed, USDA, USGS, AEX, GeoEye, Getmapping, Aerogrid, IGN, IGP, UPR-EGP, and the GIS User Community",
       "error": {},
       "min_zoom": 1,
       "msg": "Failed to load model class 'LeafletTileLayerModel' from module 'jupyter-leaflet'",
       "name": "Esri.WorldImagery",
       "options": [
        "attribution",
        "bounds",
        "detect_retina",
        "max_native_zoom",
        "max_zoom",
        "min_native_zoom",
        "min_zoom",
        "no_wrap",
        "tile_size",
        "tms",
        "zoom_offset"
       ],
       "url": "https://server.arcgisonline.com/ArcGIS/rest/services/World_Imagery/MapServer/tile/{z}/{y}/{x}"
      }
     },
     "694085ea29f6466a8ce6e81f5a8e0942": {
      "model_module": "jupyter-leaflet",
      "model_module_version": "2.0.0",
      "model_name": "LeafletMapStyleModel",
      "state": {
       "_view_name": "ErrorWidgetView",
       "error": {},
       "msg": "Failed to load model class 'LeafletMapStyleModel' from module 'jupyter-leaflet'"
      }
     },
     "c09bc7699fa84aca9889f00e459b2048": {
      "model_module": "jupyter-leaflet",
      "model_module_version": "2.0.0",
      "model_name": "LeafletAttributionControlModel",
      "state": {
       "_view_name": "ErrorWidgetView",
       "error": {},
       "msg": "Failed to load model class 'LeafletAttributionControlModel' from module 'jupyter-leaflet'",
       "options": [
        "position",
        "prefix"
       ],
       "position": "bottomright",
       "prefix": "ipyleaflet"
      }
     },
     "d1ee7d473ead44a0b204ac1b0be77ae2": {
      "model_module": "jupyter-leaflet",
      "model_module_version": "2.0.0",
      "model_name": "LeafletWidgetControlModel",
      "state": {
       "_model_module": "jupyter-leaflet",
       "_view_name": "ErrorWidgetView",
       "error": {},
       "msg": "Failed to load model class 'LeafletWidgetControlModel' from module 'jupyter-leaflet'",
       "options": [
        "position",
        "transparent_bg"
       ],
       "position": "topright",
       "widget": "IPY_MODEL_aa74152de5c240559a74609ebc46faf8"
      }
     },
     "e2dd8be18fd34e70afb07a67eb0acb4f": {
      "model_module": "jupyter-leaflet",
      "model_module_version": "2.0.0",
      "model_name": "LeafletMapStyleModel",
      "state": {
       "_view_name": "ErrorWidgetView",
       "error": {},
       "msg": "Failed to load model class 'LeafletMapStyleModel' from module 'jupyter-leaflet'"
      }
     }
    },
    "version_major": 2,
    "version_minor": 0
   }
  }
 },
 "nbformat": 4,
 "nbformat_minor": 5
}
