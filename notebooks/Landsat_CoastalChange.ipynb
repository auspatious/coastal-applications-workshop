{
 "cells": [
  {
   "cell_type": "code",
   "execution_count": null,
   "metadata": {},
   "outputs": [],
   "source": [
    "from pystac_client import Client\n",
    "from odc.stac import load, configure_s3_access\n",
    "\n",
    "from dask.distributed import Client as DaskClient\n",
    "\n",
    "from dea_tools.coastal import pixel_tides\n",
    "from dea_tools.spatial import subpixel_contours, points_on_line\n",
    "from coastlines.utils import tide_cutoffs\n",
    "from coastlines.vector import annual_movements, calculate_regressions\n",
    "\n",
    "from pathlib import Path\n",
    "\n",
    "import numpy as np"
   ]
  },
  {
   "cell_type": "code",
   "execution_count": null,
   "metadata": {},
   "outputs": [],
   "source": [
    "# STAC Catalog URL\n",
    "catalog = \"https://earth-search.aws.element84.com/v1\"\n",
    "\n",
    "# Create a STAC Client\n",
    "client = Client.open(catalog)\n",
    "\n",
    "# This line will fail if you don't have credentials configured\n",
    "_ = configure_s3_access(cloud_defaults=True, requester_pays=True)\n",
    "\n",
    "# Set up a dask client\n",
    "dask_client = DaskClient(n_workers=4, threads_per_worker=4)\n",
    "dask_client"
   ]
  },
  {
   "cell_type": "code",
   "execution_count": null,
   "metadata": {},
   "outputs": [],
   "source": [
    "# Find a location you're interested in on Google Maps and copy the coordinates\n",
    "# by right-clicking on the map and clicking the coordinates\n",
    "\n",
    "# These coords are in the order Y then X, or Latitude then Longitude\n",
    "# coords = 20.775, 106.780  # Near Haiphong\n",
    "coords = 12.293, 109.225  # Near Phuong Vinh Hoa \n",
    "buffer = 0.05\n",
    "bbox = (coords[1] - buffer, coords[0] - buffer, coords[1] + buffer, coords[0] + buffer)\n",
    "landsat_stretch = dict(vmin=7500, vmax=18000)\n",
    "\n",
    "datetime = \"2019/2024\"\n",
    "\n",
    "# Tide data and config\n",
    "home = Path(\"~\")\n",
    "tide_data_location = f\"{home}/tide_models\""
   ]
  },
  {
   "cell_type": "code",
   "execution_count": null,
   "metadata": {},
   "outputs": [],
   "source": [
    "items = client.search(\n",
    "    collections=[\"landsat-c2-l2\"],\n",
    "    bbox=bbox,\n",
    "    datetime=datetime,\n",
    ").item_collection()\n",
    "\n",
    "print(f\"Found {len(items)} items\")"
   ]
  },
  {
   "cell_type": "code",
   "execution_count": null,
   "metadata": {},
   "outputs": [],
   "source": [
    "data = load(\n",
    "    items,\n",
    "    bbox=bbox,\n",
    "    collection=\"landsat-c2-l2\",\n",
    "    measurements=[\"red\", \"green\", \"blue\", \"nir08\", \"swir16\", \"qa_pixel\"],\n",
    "    groupby=\"solar_day\",\n",
    "    chunks={\"x\": 2048, \"y\": 2048},\n",
    ")\n",
    "data"
   ]
  },
  {
   "cell_type": "code",
   "execution_count": null,
   "metadata": {},
   "outputs": [],
   "source": [
    "data[[\"red\", \"green\", \"blue\"]].isel(time=[0,1,2,3]).to_array().plot.imshow(col=\"time\", col_wrap=2, size=6, **landsat_stretch)"
   ]
  },
  {
   "cell_type": "code",
   "execution_count": null,
   "metadata": {},
   "outputs": [],
   "source": [
    "# Bit flag mask for the QA_PIXEL band\n",
    "# We need bits 3 and 4, which are the 4th and 5th bits from the right (0-indexed)\n",
    "bitflags = 0b00011000\n",
    "cloud_mask = (data.qa_pixel & bitflags) != 0\n",
    "\n",
    "# Prepare a nodata mask\n",
    "nodata = data.red == data.red.odc.nodata\n",
    "\n",
    "# Combine the cloud mask and the nodata mask\n",
    "mask = cloud_mask | nodata\n",
    "\n",
    "# Apply the mask to the data\n",
    "masked = data.where(~mask, other=np.nan)"
   ]
  },
  {
   "cell_type": "code",
   "execution_count": null,
   "metadata": {},
   "outputs": [],
   "source": [
    "masked[[\"red\", \"green\", \"blue\"]].isel(time=[0, 1, 2, 3]).to_array().plot.imshow(col=\"time\", col_wrap=2, size=6, **landsat_stretch)"
   ]
  },
  {
   "cell_type": "code",
   "execution_count": null,
   "metadata": {},
   "outputs": [],
   "source": [
    "# Add tide height to the data\n",
    "tides_hires, tides_lowres = pixel_tides(\n",
    "    masked, resample=True, directory=tide_data_location, model=\"FES2022\", dask_compute=True\n",
    ")\n",
    "\n",
    "# Determine tide cutoff\n",
    "tide_cutoff_min, tide_cutoff_max = tide_cutoffs(data, tides_lowres, tide_centre=0.0)\n",
    "\n",
    "tide_bool = (tides_hires >= tide_cutoff_min) & (tides_hires <= tide_cutoff_max)\n",
    "data_filtered = data.sel(time=tide_bool.sum(dim=[\"x\", \"y\"]) > 0)\n",
    "\n",
    "# Apply mask, and load in corresponding tide masked data\n",
    "data_tide_masked = data_filtered.where(tide_bool)\n",
    "\n",
    "print(data_tide_masked)"
   ]
  },
  {
   "cell_type": "code",
   "execution_count": null,
   "metadata": {},
   "outputs": [],
   "source": [
    "# Create MNDWI index\n",
    "data_tide_masked[\"mndwi\"] = (data_tide_masked.green - data_tide_masked.swir16) / (data_tide_masked.green + data_tide_masked.swir16)\n",
    "data_tide_masked[\"ndwi\"] = (data_tide_masked.green - data_tide_masked.nir08) / (data_tide_masked.green + data_tide_masked.nir08)\n",
    "data_tide_masked[\"combined\"] = (data_tide_masked.mndwi + data_tide_masked.ndwi) / 2\n",
    "\n",
    "# # Group by year and calculate the median\n",
    "combined_by_year = data_tide_masked.combined.groupby(\"time.year\").median().to_dataset(name=\"combined\").compute()\n",
    "combined_by_year"
   ]
  },
  {
   "cell_type": "code",
   "execution_count": null,
   "metadata": {},
   "outputs": [],
   "source": [
    "combined_by_year.combined.plot.imshow(col=\"year\", col_wrap=2, size=6, cmap=\"RdBu\", robust=True)"
   ]
  },
  {
   "cell_type": "code",
   "execution_count": null,
   "metadata": {},
   "outputs": [],
   "source": [
    "# NOTE: this should be much simpler...\n",
    "# TODO: Find out why the subpixel_contours function is not working without manually \"squeeze()\"ing the data\n",
    "\n",
    "contour_arrays = {}\n",
    "for i, da in combined_by_year.groupby(\"year\"):    \n",
    "    contours = subpixel_contours(\n",
    "        da=da.combined.squeeze(),\n",
    "        z_values=0.0,\n",
    "        crs=combined_by_year.geobox.crs,\n",
    "        min_vertices=15\n",
    "    )\n",
    "    contour_arrays[i] = contours\n",
    "\n",
    "import geopandas as gpd\n",
    "import pandas as pd\n",
    "\n",
    "contour_gdf = gpd.GeoDataFrame(data={\"year\": list(contour_arrays.keys())}, geometry=pd.concat(contour_arrays.values(), ignore_index=True).geometry)\n",
    "\n",
    "contour_gdf = contour_gdf.set_index(\"year\")\n",
    "\n",
    "contour_gdf.reset_index().explore(\n",
    "    column=\"year\",\n",
    "    cmap=\"magma\",\n",
    ")"
   ]
  },
  {
   "cell_type": "code",
   "execution_count": null,
   "metadata": {},
   "outputs": [],
   "source": [
    "# Extract points at every 30 metres along the most recent shoreline\n",
    "points_gdf = points_on_line(contour_gdf, index=2023, distance=30)\n",
    "points_gdf.plot(markersize=3)"
   ]
  },
  {
   "cell_type": "code",
   "execution_count": null,
   "metadata": {},
   "outputs": [],
   "source": [
    "points_gdf = annual_movements(\n",
    "    points_gdf, contours_gdf=contour_gdf, yearly_ds=combined_by_year, baseline_year=2023, water_index=\"combined\"\n",
    ")\n",
    "points_gdf = calculate_regressions(points_gdf=points_gdf)\n",
    "\n",
    "points_gdf"
   ]
  },
  {
   "cell_type": "code",
   "execution_count": null,
   "metadata": {},
   "outputs": [],
   "source": [
    "# Add human-friendly label for plotting\n",
    "points_gdf[\"Coastal change\"] = points_gdf.apply(\n",
    "    lambda x: f'<h4>This coastline has {\"<b>retreated</b>\" if x.rate_time < 0 else \"<b>grown</b>\"} '\n",
    "    f\"by</br><b>{x.rate_time:.2f} m (±{x.se_time:.1f}) per year</b> since \"\n",
    "    f\"<b>{contour_gdf.index[0]}</b></h4>\",\n",
    "    axis=1,\n",
    ")\n",
    "points_gdf.loc[points_gdf.sig_time > 0.05, \"Coastal change\"] = f\"<h4>No significant trend of retreat or growth)</h4>\"\n",
    "\n",
    "m = contour_gdf.reset_index().explore(\n",
    "    column=\"year\",\n",
    "    cmap=\"inferno\",\n",
    "    tiles=\"https://server.arcgisonline.com/ArcGIS/rest/services/World_Imagery/MapServer/tile/{z}/{y}/{x}\",\n",
    "    tooltip=False,\n",
    "    style_kwds={\"opacity\": 0.5},\n",
    "    attr=\"ESRI WorldImagery\",\n",
    "    categorical=True,\n",
    ")\n",
    "\n",
    "points_gdf.explore(\n",
    "    m=m,\n",
    "    column=\"rate_time\",\n",
    "    cmap=\"RdBu\",\n",
    "    markersize=5,\n",
    "    tooltip=\"Coastal change\",\n",
    ")"
   ]
  }
 ],
 "metadata": {
  "kernelspec": {
   "display_name": "Python 3",
   "language": "python",
   "name": "python3"
  },
  "language_info": {
   "codemirror_mode": {
    "name": "ipython",
    "version": 3
   },
   "file_extension": ".py",
   "mimetype": "text/x-python",
   "name": "python",
   "nbconvert_exporter": "python",
   "pygments_lexer": "ipython3",
   "version": "3.11.9"
  }
 },
 "nbformat": 4,
 "nbformat_minor": 2
}
