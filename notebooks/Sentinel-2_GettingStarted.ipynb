{
 "cells": [
  {
   "cell_type": "code",
   "execution_count": null,
   "metadata": {},
   "outputs": [],
   "source": [
    "from pystac_client import Client\n",
    "from odc.stac import load\n",
    "\n",
    "import odc.geo.xr"
   ]
  },
  {
   "cell_type": "code",
   "execution_count": null,
   "metadata": {},
   "outputs": [],
   "source": [
    "# STAC Catalog URL\n",
    "catalog = \"https://earth-search.aws.element84.com/v1\"\n",
    "\n",
    "# Create a STAC Client\n",
    "client = Client.open(catalog)"
   ]
  },
  {
   "cell_type": "code",
   "execution_count": null,
   "metadata": {},
   "outputs": [],
   "source": [
    "# Find a location you're interested in on Google Maps and copy the coordinates\n",
    "# by right-clicking on the map and clicking the coordinates\n",
    "\n",
    "# These coords are in the order Y then X, or Latitude then Longitude\n",
    "# Area in Vietnam\n",
    "coords = 9.983038785699682, 106.73711560238493\n",
    "buffer = 0.2\n",
    "bbox = (coords[1] - buffer, coords[0] - buffer, coords[1] + buffer, coords[0] + buffer)\n",
    "\n",
    "datetime = \"2024-07\""
   ]
  },
  {
   "cell_type": "code",
   "execution_count": null,
   "metadata": {},
   "outputs": [],
   "source": [
    "items = client.search(\n",
    "    collections=[\"sentinel-2-c1-l2a\"],\n",
    "    bbox=bbox,\n",
    "    datetime=datetime,\n",
    "    query={\"eo:cloud_cover\": {\"lt\": 80}},  # Not using this filter results in 27 items\n",
    ").item_collection()\n",
    "\n",
    "print(f\"Found {len(items)} STAC items\")"
   ]
  },
  {
   "cell_type": "code",
   "execution_count": null,
   "metadata": {},
   "outputs": [],
   "source": [
    "data = load(\n",
    "    items,\n",
    "    bands=[\"red\", \"green\", \"blue\"],\n",
    "    bbox=bbox,\n",
    "    groupby=\"solar_day\",\n",
    "    chunks={\"x\": 2048, \"y\": 2048},\n",
    ")\n",
    "\n",
    "data = data.load()"
   ]
  },
  {
   "cell_type": "code",
   "execution_count": null,
   "metadata": {},
   "outputs": [],
   "source": [
    "data.to_array().plot.imshow(col=\"time\", col_wrap=2, size=6, vmin=1000, vmax=4000)"
   ]
  },
  {
   "cell_type": "code",
   "execution_count": null,
   "metadata": {},
   "outputs": [],
   "source": [
    "best = data.sel(time=\"2024-07-30\").squeeze()\n",
    "\n",
    "best.odc.explore(vmin=1000, vmax=4000)"
   ]
  },
  {
   "cell_type": "code",
   "execution_count": null,
   "metadata": {},
   "outputs": [],
   "source": [
    "out = best.odc.to_rgba(vmin=1000, vmax=4000)\n",
    "\n",
    "odc.geo.xr.write_cog(out, \"output.tif\", overwrite=True)"
   ]
  }
 ],
 "metadata": {
  "kernelspec": {
   "display_name": "Python 3",
   "language": "python",
   "name": "python3"
  },
  "language_info": {
   "codemirror_mode": {
    "name": "ipython",
    "version": 3
   },
   "file_extension": ".py",
   "mimetype": "text/x-python",
   "name": "python",
   "nbconvert_exporter": "python",
   "pygments_lexer": "ipython3",
   "version": "3.11.9"
  }
 },
 "nbformat": 4,
 "nbformat_minor": 2
}
