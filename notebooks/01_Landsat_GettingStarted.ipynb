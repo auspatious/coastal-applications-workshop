{
 "cells": [
  {
   "cell_type": "markdown",
   "metadata": {},
   "source": [
    "# Getting Started with Landsat\n",
    "\n",
    "This notebook is a very simple example of the fundamentals of working with\n",
    "Earth observation data using cloud native geospatial tools and practices.\n",
    "\n",
    "## Import libraries"
   ]
  },
  {
   "cell_type": "code",
   "execution_count": 10,
   "metadata": {},
   "outputs": [],
   "source": [
    "from pystac_client import Client\n",
    "from odc.stac import load, configure_s3_access"
   ]
  },
  {
   "cell_type": "markdown",
   "metadata": {},
   "source": [
    "## Configure the environment"
   ]
  },
  {
   "cell_type": "code",
   "execution_count": 11,
   "metadata": {},
   "outputs": [],
   "source": [
    "# STAC Catalog URL\n",
    "catalog = \"https://earth-search.aws.element84.com/v1\"\n",
    "\n",
    "# Create a STAC Client\n",
    "client = Client.open(catalog)\n",
    "\n",
    "# This line will fail if you don't have credentials configured\n",
    "_ = configure_s3_access(cloud_defaults=True, requester_pays=True)"
   ]
  },
  {
   "cell_type": "markdown",
   "metadata": {},
   "source": [
    "## Pick a study area"
   ]
  },
  {
   "cell_type": "code",
   "execution_count": 12,
   "metadata": {},
   "outputs": [],
   "source": [
    "# Find a location you're interested in on Google Maps and copy the coordinates\n",
    "# by right-clicking on the map and clicking the coordinates\n",
    "\n",
    "# These coords are in the order Y then X, or Latitude then Longitude\n",
    "coords = 9.9251702,118.7817471,13.79  # Honda Bay, Palawan, Philippines\n",
    "buffer = 0.2\n",
    "bbox = (coords[1] - buffer, coords[0] - buffer, coords[1] + buffer, coords[0] + buffer)\n",
    "landsat_stretch = dict(vmin=7500, vmax=18000)\n",
    "\n",
    "datetime = \"2024-06\""
   ]
  },
  {
   "cell_type": "markdown",
   "metadata": {},
   "source": [
    "## Find STAC Items\n",
    "\n",
    "A STAC Item is a record of a \"scene\" or \"granule\". It has a spatial and temporal\n",
    "extent, a set of Assets, or links to files, and important metadata that can\n",
    "be used to filter scenes, for example, for percentage cloud cover for the scene.\n",
    "\n",
    "In the example below, we're searching the Landsat Collection 2, level 2 STAC Collection\n",
    "for items in the bounding box and datetime range with cloud cover less than 50%."
   ]
  },
  {
   "cell_type": "code",
   "execution_count": null,
   "metadata": {},
   "outputs": [],
   "source": [
    "items = client.search(\n",
    "    collections=[\"landsat-c2-l2\"],\n",
    "    bbox=bbox,\n",
    "    datetime=datetime,\n",
    "    query={\"eo:cloud_cover\": {\"lt\": 50}},\n",
    ").item_collection()\n",
    "\n",
    "print(f\"Found {len(items)} items\")"
   ]
  },
  {
   "cell_type": "markdown",
   "metadata": {},
   "source": [
    "## Load data\n",
    "\n",
    "This uses the Python library `odc-stac` to handle loading of the actual data\n",
    "from the STAC Items. The `chunks` argument instructs the tool to use Dask\n",
    "to lazy-load the data.\n",
    "\n",
    "Note that while we found four STAC Items above, we will have two timesteps\n",
    "in the Xarray dataset below, because some scenes are captured on the same day\n",
    "and are adjacent, so they've been merged using the `groupby=\"solar_day\"` argument."
   ]
  },
  {
   "cell_type": "code",
   "execution_count": null,
   "metadata": {},
   "outputs": [],
   "source": [
    "data = load(\n",
    "    items,\n",
    "    bbox=bbox,\n",
    "    collection=\"landsat-c2-l2\",\n",
    "    measurements=[\"red\", \"green\", \"blue\"],\n",
    "    groupby=\"solar_day\",\n",
    "    chunks={\"x\": 2048, \"y\": 2048},\n",
    ")\n",
    "data"
   ]
  },
  {
   "cell_type": "code",
   "execution_count": 15,
   "metadata": {},
   "outputs": [],
   "source": [
    "from odc.stac import configure_rio\n",
    "\n",
    "configure_rio(cloud_defaults=True, GDAL_HTTP_PROXY=None)"
   ]
  },
  {
   "cell_type": "markdown",
   "metadata": {},
   "source": [
    "## Visualise data\n",
    "\n",
    "This step uses `matplotlib` to view data as a static image. It takes a longer time to\n",
    "run than previous steps, because it's actually loading the data to prepare the images.\n",
    "\n",
    "The `to_array()` function is a trick used to be able to visualise the data as a\n",
    "red, green, blue \"true colour\" image."
   ]
  },
  {
   "cell_type": "code",
   "execution_count": null,
   "metadata": {},
   "outputs": [],
   "source": [
    "data.to_array().plot.imshow(col=\"time\", col_wrap=2, size=6, **landsat_stretch)"
   ]
  },
  {
   "cell_type": "markdown",
   "metadata": {},
   "source": [
    "### Interactive map\n",
    "\n",
    "This step uses another `odc` tool to visualise the data on a map."
   ]
  },
  {
   "cell_type": "code",
   "execution_count": null,
   "metadata": {},
   "outputs": [],
   "source": [
    "best = data.sel(time=\"2024-06-11\").squeeze()\n",
    "\n",
    "# The odc.explore function will choose red, green and blue by default\n",
    "# but you can choose bands with the bands=[\"b1\", \"b2\", \"b3\"] argument\n",
    "best.odc.explore(**landsat_stretch)"
   ]
  },
  {
   "cell_type": "markdown",
   "metadata": {},
   "source": [
    "## Export data\n",
    "\n",
    "Here we write data to disk, again using an `odc` tool."
   ]
  },
  {
   "cell_type": "code",
   "execution_count": null,
   "metadata": {},
   "outputs": [],
   "source": [
    "best.odc.to_rgba(**landsat_stretch).odc.write_cog(\"landsat_example.tif\", overwrite=True)"
   ]
  },
  {
   "cell_type": "markdown",
   "metadata": {},
   "source": [
    "## Summary\n",
    "\n",
    "In this notebook we've learnt how to search for Landsat scenes using a STAC API\n",
    "and then to load and visualise that data, using `odc-stac`.\n",
    "\n",
    "In future notebooks, we'll be using this basic functionality to find and load\n",
    "data from Landsat, Sentinel-2 and Sentinel-1 and to run more complex analyses."
   ]
  },
  {
   "cell_type": "markdown",
   "metadata": {},
   "source": []
  }
 ],
 "metadata": {
  "kernelspec": {
   "display_name": "Python 3",
   "language": "python",
   "name": "python3"
  },
  "language_info": {
   "codemirror_mode": {
    "name": "ipython",
    "version": 3
   },
   "file_extension": ".py",
   "mimetype": "text/x-python",
   "name": "python",
   "nbconvert_exporter": "python",
   "pygments_lexer": "ipython3",
   "version": "3.11.9"
  }
 },
 "nbformat": 4,
 "nbformat_minor": 2
}
