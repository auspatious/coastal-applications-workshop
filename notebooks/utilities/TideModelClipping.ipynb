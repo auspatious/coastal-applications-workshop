{
 "cells": [
  {
   "cell_type": "markdown",
   "metadata": {},
   "source": [
    "# Tide model clipping\n",
    "\n",
    "Inspired by [this notebook](https://github.com/GeoscienceAustralia/dea-intertidal/blob/rbt/notebooks/utilities/Clip_tide_models.ipynb)\n",
    "from Geoscience Australia"
   ]
  },
  {
   "cell_type": "code",
   "execution_count": 1,
   "metadata": {},
   "outputs": [],
   "source": [
    "import geopandas as gpd\n",
    "from glob import glob\n",
    "import xarray as xr\n",
    "import lzma\n",
    "from tqdm.notebook import tqdm\n",
    "import os"
   ]
  },
  {
   "cell_type": "code",
   "execution_count": 2,
   "metadata": {},
   "outputs": [],
   "source": [
    "# Lower left and upper right corners of the bounding box, from right click on Google Maps\n",
    "miny, minx = 1.4105, 100.807\n",
    "maxy, maxx = 26.654, 131.633"
   ]
  },
  {
   "cell_type": "code",
   "execution_count": 4,
   "metadata": {},
   "outputs": [
    {
     "data": {
      "application/vnd.jupyter.widget-view+json": {
       "model_id": "7bcb3061bfdc43f6908879feb0a3dade",
       "version_major": 2,
       "version_minor": 0
      },
      "text/plain": [
       "  0%|          | 0/103 [00:00<?, ?it/s]"
      ]
     },
     "metadata": {},
     "output_type": "display_data"
    },
    {
     "name": "stdout",
     "output_type": "stream",
     "text": [
      "/Users/alex/Data/tide_models/fes2022b/ocean_tide_extrapolated/m2_fes2022.nc.xz\n",
      "/Users/alex/Data/tide_models/fes2022b/ocean_tide_extrapolated/sa_fes2022.nc.xz\n",
      "/Users/alex/Data/tide_models/fes2022b/ocean_tide_extrapolated/m6_fes2022.nc.xz\n",
      "/Users/alex/Data/tide_models/fes2022b/ocean_tide_extrapolated/mtm_fes2022.nc.xz\n",
      "/Users/alex/Data/tide_models/fes2022b/ocean_tide_extrapolated/mask_fes2022B.nc.xz\n",
      "/Users/alex/Data/tide_models/fes2022b/ocean_tide_extrapolated/mu2_fes2022.nc.xz\n",
      "/Users/alex/Data/tide_models/fes2022b/ocean_tide_extrapolated/k1_fes2022.nc.xz\n",
      "/Users/alex/Data/tide_models/fes2022b/ocean_tide_extrapolated/j1_fes2022.nc.xz\n",
      "/Users/alex/Data/tide_models/fes2022b/ocean_tide_extrapolated/mm_fes2022.nc.xz\n",
      "/Users/alex/Data/tide_models/fes2022b/ocean_tide_extrapolated/k2_fes2022.nc.xz\n",
      "/Users/alex/Data/tide_models/fes2022b/ocean_tide_extrapolated/2n2_fes2022.nc.xz\n",
      "/Users/alex/Data/tide_models/fes2022b/ocean_tide_extrapolated/mn4_fes2022.nc.xz\n",
      "/Users/alex/Data/tide_models/fes2022b/ocean_tide_extrapolated/ssa_fes2022.nc.xz\n",
      "/Users/alex/Data/tide_models/fes2022b/ocean_tide_extrapolated/l2_fes2022.nc.xz\n",
      "/Users/alex/Data/tide_models/fes2022b/ocean_tide_extrapolated/mks2_fes2022.nc.xz\n",
      "/Users/alex/Data/tide_models/fes2022b/ocean_tide_extrapolated/lambda2_fes2022.nc.xz\n",
      "/Users/alex/Data/tide_models/fes2022b/ocean_tide_extrapolated/o1_fes2022.nc.xz\n",
      "/Users/alex/Data/tide_models/fes2022b/ocean_tide_extrapolated/n2_fes2022.nc.xz\n",
      "/Users/alex/Data/tide_models/fes2022b/ocean_tide_extrapolated/s4_fes2022.nc.xz\n",
      "/Users/alex/Data/tide_models/fes2022b/ocean_tide_extrapolated/m8_fes2022.nc.xz\n",
      "/Users/alex/Data/tide_models/fes2022b/ocean_tide_extrapolated/s2_fes2022.nc.xz\n",
      "/Users/alex/Data/tide_models/fes2022b/ocean_tide_extrapolated/eps2_fes2022.nc.xz\n",
      "/Users/alex/Data/tide_models/fes2022b/ocean_tide_extrapolated/msf_fes2022.nc.xz\n",
      "/Users/alex/Data/tide_models/fes2022b/ocean_tide_extrapolated/t2_fes2022.nc.xz\n",
      "/Users/alex/Data/tide_models/fes2022b/ocean_tide_extrapolated/n4_fes2022.nc.xz\n",
      "/Users/alex/Data/tide_models/fes2022b/ocean_tide_extrapolated/r2_fes2022.nc.xz\n",
      "/Users/alex/Data/tide_models/fes2022b/ocean_tide_extrapolated/msqm_fes2022.nc.xz\n",
      "/Users/alex/Data/tide_models/fes2022b/ocean_tide_extrapolated/mf_fes2022.nc.xz\n",
      "/Users/alex/Data/tide_models/fes2022b/ocean_tide_extrapolated/nu2_fes2022.nc.xz\n",
      "/Users/alex/Data/tide_models/fes2022b/ocean_tide_extrapolated/s1_fes2022.nc.xz\n",
      "/Users/alex/Data/tide_models/fes2022b/ocean_tide_extrapolated/q1_fes2022.nc.xz\n",
      "/Users/alex/Data/tide_models/fes2022b/ocean_tide_extrapolated/m4_fes2022.nc.xz\n",
      "/Users/alex/Data/tide_models/fes2022b/ocean_tide_extrapolated/ms4_fes2022.nc.xz\n",
      "/Users/alex/Data/tide_models/fes2022b/ocean_tide_extrapolated/m3_fes2022.nc.xz\n",
      "/Users/alex/Data/tide_models/fes2022b/ocean_tide_extrapolated/p1_fes2022.nc.xz\n",
      "/Users/alex/Data/tide_models/fes2022b/ocean_tide/m2_fes2022.nc.xz\n",
      "/Users/alex/Data/tide_models/fes2022b/ocean_tide/sa_fes2022.nc.xz\n",
      "/Users/alex/Data/tide_models/fes2022b/ocean_tide/m6_fes2022.nc.xz\n",
      "/Users/alex/Data/tide_models/fes2022b/ocean_tide/mtm_fes2022.nc.xz\n",
      "/Users/alex/Data/tide_models/fes2022b/ocean_tide/mu2_fes2022.nc.xz\n",
      "/Users/alex/Data/tide_models/fes2022b/ocean_tide/k1_fes2022.nc.xz\n",
      "/Users/alex/Data/tide_models/fes2022b/ocean_tide/j1_fes2022.nc.xz\n",
      "/Users/alex/Data/tide_models/fes2022b/ocean_tide/mm_fes2022.nc.xz\n",
      "/Users/alex/Data/tide_models/fes2022b/ocean_tide/k2_fes2022.nc.xz\n",
      "/Users/alex/Data/tide_models/fes2022b/ocean_tide/2n2_fes2022.nc.xz\n",
      "/Users/alex/Data/tide_models/fes2022b/ocean_tide/mn4_fes2022.nc.xz\n",
      "/Users/alex/Data/tide_models/fes2022b/ocean_tide/ssa_fes2022.nc.xz\n",
      "/Users/alex/Data/tide_models/fes2022b/ocean_tide/l2_fes2022.nc.xz\n",
      "/Users/alex/Data/tide_models/fes2022b/ocean_tide/mks2_fes2022.nc.xz\n",
      "/Users/alex/Data/tide_models/fes2022b/ocean_tide/lambda2_fes2022.nc.xz\n",
      "/Users/alex/Data/tide_models/fes2022b/ocean_tide/o1_fes2022.nc.xz\n",
      "/Users/alex/Data/tide_models/fes2022b/ocean_tide/n2_fes2022.nc.xz\n",
      "/Users/alex/Data/tide_models/fes2022b/ocean_tide/s4_fes2022.nc.xz\n",
      "/Users/alex/Data/tide_models/fes2022b/ocean_tide/m8_fes2022.nc.xz\n",
      "/Users/alex/Data/tide_models/fes2022b/ocean_tide/s2_fes2022.nc.xz\n",
      "/Users/alex/Data/tide_models/fes2022b/ocean_tide/eps2_fes2022.nc.xz\n",
      "/Users/alex/Data/tide_models/fes2022b/ocean_tide/msf_fes2022.nc.xz\n",
      "/Users/alex/Data/tide_models/fes2022b/ocean_tide/t2_fes2022.nc.xz\n",
      "/Users/alex/Data/tide_models/fes2022b/ocean_tide/n4_fes2022.nc.xz\n",
      "/Users/alex/Data/tide_models/fes2022b/ocean_tide/r2_fes2022.nc.xz\n",
      "/Users/alex/Data/tide_models/fes2022b/ocean_tide/msqm_fes2022.nc.xz\n",
      "/Users/alex/Data/tide_models/fes2022b/ocean_tide/mf_fes2022.nc.xz\n",
      "/Users/alex/Data/tide_models/fes2022b/ocean_tide/nu2_fes2022.nc.xz\n",
      "/Users/alex/Data/tide_models/fes2022b/ocean_tide/s1_fes2022.nc.xz\n",
      "/Users/alex/Data/tide_models/fes2022b/ocean_tide/q1_fes2022.nc.xz\n",
      "/Users/alex/Data/tide_models/fes2022b/ocean_tide/m4_fes2022.nc.xz\n",
      "/Users/alex/Data/tide_models/fes2022b/ocean_tide/ms4_fes2022.nc.xz\n",
      "/Users/alex/Data/tide_models/fes2022b/ocean_tide/m3_fes2022.nc.xz\n",
      "/Users/alex/Data/tide_models/fes2022b/ocean_tide/p1_fes2022.nc.xz\n",
      "/Users/alex/Data/tide_models/fes2022b/load_tide/m2_fes2022.nc.xz\n",
      "/Users/alex/Data/tide_models/fes2022b/load_tide/sa_fes2022.nc.xz\n",
      "/Users/alex/Data/tide_models/fes2022b/load_tide/m6_fes2022.nc.xz\n",
      "/Users/alex/Data/tide_models/fes2022b/load_tide/mtm_fes2022.nc.xz\n",
      "/Users/alex/Data/tide_models/fes2022b/load_tide/mu2_fes2022.nc.xz\n",
      "/Users/alex/Data/tide_models/fes2022b/load_tide/k1_fes2022.nc.xz\n",
      "/Users/alex/Data/tide_models/fes2022b/load_tide/j1_fes2022.nc.xz\n",
      "/Users/alex/Data/tide_models/fes2022b/load_tide/mm_fes2022.nc.xz\n",
      "/Users/alex/Data/tide_models/fes2022b/load_tide/k2_fes2022.nc.xz\n",
      "/Users/alex/Data/tide_models/fes2022b/load_tide/2n2_fes2022.nc.xz\n",
      "/Users/alex/Data/tide_models/fes2022b/load_tide/mn4_fes2022.nc.xz\n",
      "/Users/alex/Data/tide_models/fes2022b/load_tide/ssa_fes2022.nc.xz\n",
      "/Users/alex/Data/tide_models/fes2022b/load_tide/l2_fes2022.nc.xz\n",
      "/Users/alex/Data/tide_models/fes2022b/load_tide/mks2_fes2022.nc.xz\n",
      "/Users/alex/Data/tide_models/fes2022b/load_tide/lambda2_fes2022.nc.xz\n",
      "/Users/alex/Data/tide_models/fes2022b/load_tide/o1_fes2022.nc.xz\n",
      "/Users/alex/Data/tide_models/fes2022b/load_tide/n2_fes2022.nc.xz\n",
      "/Users/alex/Data/tide_models/fes2022b/load_tide/s4_fes2022.nc.xz\n",
      "/Users/alex/Data/tide_models/fes2022b/load_tide/m8_fes2022.nc.xz\n",
      "/Users/alex/Data/tide_models/fes2022b/load_tide/s2_fes2022.nc.xz\n",
      "/Users/alex/Data/tide_models/fes2022b/load_tide/eps2_fes2022.nc.xz\n",
      "/Users/alex/Data/tide_models/fes2022b/load_tide/msf_fes2022.nc.xz\n",
      "/Users/alex/Data/tide_models/fes2022b/load_tide/t2_fes2022.nc.xz\n",
      "/Users/alex/Data/tide_models/fes2022b/load_tide/n4_fes2022.nc.xz\n",
      "/Users/alex/Data/tide_models/fes2022b/load_tide/r2_fes2022.nc.xz\n",
      "/Users/alex/Data/tide_models/fes2022b/load_tide/msqm_fes2022.nc.xz\n",
      "/Users/alex/Data/tide_models/fes2022b/load_tide/mf_fes2022.nc.xz\n",
      "/Users/alex/Data/tide_models/fes2022b/load_tide/nu2_fes2022.nc.xz\n",
      "/Users/alex/Data/tide_models/fes2022b/load_tide/s1_fes2022.nc.xz\n",
      "/Users/alex/Data/tide_models/fes2022b/load_tide/q1_fes2022.nc.xz\n",
      "/Users/alex/Data/tide_models/fes2022b/load_tide/m4_fes2022.nc.xz\n",
      "/Users/alex/Data/tide_models/fes2022b/load_tide/ms4_fes2022.nc.xz\n",
      "/Users/alex/Data/tide_models/fes2022b/load_tide/m3_fes2022.nc.xz\n",
      "/Users/alex/Data/tide_models/fes2022b/load_tide/p1_fes2022.nc.xz\n"
     ]
    }
   ],
   "source": [
    "# Load, clip and export FES2022 data\n",
    "paths = [x for x in glob('/Users/alex/Data/tide_models/fes2022b/**/*.nc.xz')]\n",
    "\n",
    "for path in tqdm(paths):\n",
    "    # Open the xz file in memory\n",
    "    with lzma.open(path, \"rb\") as f:\n",
    "        out_path = path.replace(\"tide_models\", \"tide_models_clipped\").replace(\".xz\", \"\")\n",
    "        # Create the folder if needed\n",
    "        os.makedirs(os.path.dirname(out_path), exist_ok=True)\n",
    "\n",
    "        ds = xr.open_dataset(f).sel(\n",
    "                lon=slice(minx, maxx), lat=slice(miny, maxy)\n",
    "            ).to_netcdf(out_path, mode=\"w\")\n"
   ]
  },
  {
   "cell_type": "code",
   "execution_count": null,
   "metadata": {},
   "outputs": [],
   "source": []
  }
 ],
 "metadata": {
  "kernelspec": {
   "display_name": "Python 3",
   "language": "python",
   "name": "python3"
  },
  "language_info": {
   "codemirror_mode": {
    "name": "ipython",
    "version": 3
   },
   "file_extension": ".py",
   "mimetype": "text/x-python",
   "name": "python",
   "nbconvert_exporter": "python",
   "pygments_lexer": "ipython3",
   "version": "3.11.9"
  }
 },
 "nbformat": 4,
 "nbformat_minor": 2
}
