{
 "cells": [
  {
   "cell_type": "markdown",
   "metadata": {},
   "source": [
    "# Tide model clipping\n",
    "\n",
    "Inspired by [this notebook](https://github.com/GeoscienceAustralia/dea-intertidal/blob/rbt/notebooks/utilities/Clip_tide_models.ipynb)\n",
    "from Geoscience Australia.\n",
    "\n",
    "To access the data in the first place, you can\n",
    "[follow these instructions](https://github.com/GeoscienceAustralia/dea-coastlines/wiki/Setting-up-tidal-models-for-DEA-Coastlines)."
   ]
  },
  {
   "cell_type": "code",
   "execution_count": null,
   "metadata": {},
   "outputs": [],
   "source": [
    "from glob import glob\n",
    "import xarray as xr\n",
    "import lzma\n",
    "from tqdm.notebook import tqdm\n",
    "import os"
   ]
  },
  {
   "cell_type": "code",
   "execution_count": null,
   "metadata": {},
   "outputs": [],
   "source": [
    "# Lower left and upper right corners of the bounding box, from right click on Google Maps\n",
    "miny, minx = 1.4105, 100.807\n",
    "maxy, maxx = 26.654, 131.633\n",
    "region = \"se-asia\""
   ]
  },
  {
   "cell_type": "code",
   "execution_count": null,
   "metadata": {},
   "outputs": [],
   "source": [
    "# Load, clip and export FES2022 data\n",
    "paths = [x for x in glob('/Users/alex/Data/tide_models/fes2022b/**/*.nc.xz')]\n",
    "\n",
    "for path in tqdm(paths):\n",
    "    # Open the xz file in memory\n",
    "    with lzma.open(path, \"rb\") as f:\n",
    "        out_path = path.replace(\"tide_models\", f\"tide_models_{region}\").replace(\".xz\", \"\")\n",
    "        # Create the folder if needed\n",
    "        os.makedirs(os.path.dirname(out_path), exist_ok=True)\n",
    "\n",
    "        ds = xr.open_dataset(f).sel(\n",
    "                lon=slice(minx, maxx), lat=slice(miny, maxy)\n",
    "            ).to_netcdf(out_path, mode=\"w\")"
   ]
  }
 ],
 "metadata": {
  "kernelspec": {
   "display_name": "Python 3",
   "language": "python",
   "name": "python3"
  },
  "language_info": {
   "codemirror_mode": {
    "name": "ipython",
    "version": 3
   },
   "file_extension": ".py",
   "mimetype": "text/x-python",
   "name": "python",
   "nbconvert_exporter": "python",
   "pygments_lexer": "ipython3",
   "version": "3.11.9"
  }
 },
 "nbformat": 4,
 "nbformat_minor": 2
}
