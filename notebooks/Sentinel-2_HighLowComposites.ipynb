{
 "cells": [
  {
   "cell_type": "code",
   "execution_count": null,
   "metadata": {},
   "outputs": [],
   "source": [
    "from pystac_client import Client\n",
    "from odc.stac import load\n",
    "from dea_tools.coastal import pixel_tides\n",
    "\n",
    "from dask.distributed import Client as DaskClient\n",
    "\n",
    "import numpy as np\n",
    "from pathlib import Path\n",
    "import odc.geo.xr  # noqa\n",
    "import folium"
   ]
  },
  {
   "cell_type": "code",
   "execution_count": null,
   "metadata": {},
   "outputs": [],
   "source": [
    "# STAC Catalog URL\n",
    "catalog = \"https://earth-search.aws.element84.com/v1\"\n",
    "\n",
    "# Create a STAC Client\n",
    "client = Client.open(catalog)\n",
    "\n",
    "# Set up Dask\n",
    "dask_client = DaskClient(n_workers=4, threads_per_worker=4)\n",
    "dask_client"
   ]
  },
  {
   "cell_type": "code",
   "execution_count": null,
   "metadata": {},
   "outputs": [],
   "source": [
    "# Find a location you're interested in on Google Maps and copy the coordinates\n",
    "# by right-clicking on the map and clicking the coordinates\n",
    "\n",
    "# These coords are in the order Y then X, or Latitude then Longitude\n",
    "coords = 20.7748, 106.7785  # Near Haiphong\n",
    "buffer = 0.1\n",
    "bbox = (coords[1] - buffer, coords[0] - buffer, coords[1] + buffer, coords[0] + buffer)\n",
    "\n",
    "datetime = \"2023/2024\"\n",
    "\n",
    "# Tide data and config\n",
    "home = Path(\"~\")\n",
    "tide_data_location = f\"{home}/tide_models\""
   ]
  },
  {
   "cell_type": "code",
   "execution_count": null,
   "metadata": {},
   "outputs": [],
   "source": [
    "items = client.search(\n",
    "    collections=[\"sentinel-2-c1-l2a\"],\n",
    "    bbox=bbox,\n",
    "    datetime=datetime\n",
    ").item_collection()\n",
    "\n",
    "print(f\"Found {len(items)} STAC items\")"
   ]
  },
  {
   "cell_type": "code",
   "execution_count": null,
   "metadata": {},
   "outputs": [],
   "source": [
    "data = load(\n",
    "    items,\n",
    "    bands=[\"red\", \"green\", \"blue\", \"swir16\", \"cloud\", \"scl\"],\n",
    "    bbox=bbox,\n",
    "    groupby=\"solar_day\",\n",
    "    chunks={\"x\": 2048, \"y\": 2048},\n",
    ")\n",
    "\n",
    "data"
   ]
  },
  {
   "cell_type": "code",
   "execution_count": null,
   "metadata": {},
   "outputs": [],
   "source": [
    "# cloud_mask = data.cloud > 25  # Percentage likelihood a pixel is cloud\n",
    "NODATA = 0\n",
    "CLOUD_SHADOW = 3\n",
    "CLOUD_MEDIUM_PROBABILITY = 8\n",
    "CLOUD_HIGH_PROBABILITY = 9\n",
    "\n",
    "mask = data.scl.isin([NODATA, CLOUD_SHADOW, CLOUD_MEDIUM_PROBABILITY, CLOUD_HIGH_PROBABILITY])\n",
    "\n",
    "masked = data.where(~mask, other=np.nan)\n",
    "masked = masked.drop_vars(\"scl\")"
   ]
  },
  {
   "cell_type": "code",
   "execution_count": null,
   "metadata": {},
   "outputs": [],
   "source": [
    "# We're doing a lowres tide model, as we are just going to filter out scenes\n",
    "tides_lowres = pixel_tides(\n",
    "    masked, resample=False, directory=tide_data_location, model=\"FES2022\", dask_compute=True\n",
    ")"
   ]
  },
  {
   "cell_type": "code",
   "execution_count": null,
   "metadata": {},
   "outputs": [],
   "source": [
    "lowest, highest = tides_lowres.quantile([0.3, 0.7]).values\n",
    "\n",
    "low_scenes = tides_lowres.where(tides_lowres < lowest, drop=True)\n",
    "high_scenes = tides_lowres.where(tides_lowres > highest, drop=True)\n",
    "\n",
    "data_low = masked.sel(time=low_scenes.time)\n",
    "data_high = masked.sel(time=high_scenes.time)\n",
    "\n",
    "print(f\"Found {len(data_low.time)} low tide days and {len(data_high.time)} high tide days out of {len(data.time)} days\")"
   ]
  },
  {
   "cell_type": "code",
   "execution_count": null,
   "metadata": {},
   "outputs": [],
   "source": [
    "median_low = data_low.median(\"time\").compute()\n",
    "median_high = data_high.median(\"time\").compute()"
   ]
  },
  {
   "cell_type": "code",
   "execution_count": null,
   "metadata": {},
   "outputs": [],
   "source": [
    "median = masked.median(\"time\").compute()\n",
    "median.odc.explore(vmin=1000, vmax=4000)"
   ]
  },
  {
   "cell_type": "code",
   "execution_count": null,
   "metadata": {},
   "outputs": [],
   "source": [
    "median_high.odc.explore(vmin=1000, vmax=4000)"
   ]
  },
  {
   "cell_type": "code",
   "execution_count": null,
   "metadata": {},
   "outputs": [],
   "source": [
    "median_low.odc.explore(vmin=1000, vmax=4000)"
   ]
  },
  {
   "cell_type": "code",
   "execution_count": null,
   "metadata": {},
   "outputs": [],
   "source": [
    "# Calculate MNDWI\n",
    "median_low[\"mndwi\"] = (median_low.green - median_low.swir16) / (median_low.green + median_low.swir16)\n",
    "median_high[\"mndwi\"] = (median_high.green - median_high.swir16) / (median_high.green + median_high.swir16)"
   ]
  },
  {
   "cell_type": "code",
   "execution_count": null,
   "metadata": {},
   "outputs": [],
   "source": [
    "# Plot LOW and HIGH MNDWI on the same map\n",
    "m = folium.Map()\n",
    "\n",
    "arguments = {\n",
    "    \"cmap\": \"RdBu\",\n",
    "    \"vmin\": -0.5,\n",
    "    \"vmax\": 0.5,\n",
    "}\n",
    "\n",
    "# Plot each sample image with different colormap\n",
    "median_low.mndwi.odc.add_to(m, name=\"low\", **arguments)\n",
    "median_high.mndwi.odc.add_to(m, name=\"high\", **arguments)\n",
    "\n",
    "folium.LayerControl().add_to(m)\n",
    "m.fit_bounds(median_low.odc.map_bounds())\n",
    "m"
   ]
  }
 ],
 "metadata": {
  "kernelspec": {
   "display_name": "Python 3",
   "language": "python",
   "name": "python3"
  },
  "language_info": {
   "codemirror_mode": {
    "name": "ipython",
    "version": 3
   },
   "file_extension": ".py",
   "mimetype": "text/x-python",
   "name": "python",
   "nbconvert_exporter": "python",
   "pygments_lexer": "ipython3",
   "version": "3.11.9"
  }
 },
 "nbformat": 4,
 "nbformat_minor": 2
}
