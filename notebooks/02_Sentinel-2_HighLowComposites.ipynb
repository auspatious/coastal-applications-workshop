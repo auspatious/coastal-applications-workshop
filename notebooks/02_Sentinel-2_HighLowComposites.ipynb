{
 "cells": [
  {
   "cell_type": "markdown",
   "metadata": {},
   "source": [
    "# High- and Low-tide Composites\n",
    "\n",
    "This notebook combines some of the lessons learnt in the first notebook\n",
    "and applies them to an analysis that seeks to create cloud-free mosaic\n",
    "images at either high or low tide. This can be helpful if you need to\n",
    "run an analysis such as identifying seagrass, which is more difficult\n",
    "when it's covered by water."
   ]
  },
  {
   "cell_type": "markdown",
   "metadata": {},
   "source": [
    "### Package import\n",
    "\n",
    "First, we configure our Python package imports"
   ]
  },
  {
   "cell_type": "code",
   "execution_count": 1,
   "metadata": {},
   "outputs": [],
   "source": [
    "from pystac_client import Client\n",
    "from odc.stac import load\n",
    "from dea_tools.coastal import pixel_tides\n",
    "\n",
    "from dask.distributed import Client as DaskClient\n",
    "\n",
    "from pathlib import Path\n",
    "import folium"
   ]
  },
  {
   "cell_type": "markdown",
   "metadata": {},
   "source": [
    "### Configuration\n",
    "\n",
    "We're using the Element-84 STAC API to find Sentinel-2 data. This cell\n",
    "also sets up a Dask client, so that we can lazy-load data and process\n",
    "efficiently across multiple threads.\n",
    "\n",
    "If you click the link to the Dashboard, you should be able to watch Dask\n",
    "work, once we're at the stage where we compute the results."
   ]
  },
  {
   "cell_type": "code",
   "execution_count": null,
   "metadata": {},
   "outputs": [],
   "source": [
    "# STAC Catalog URL\n",
    "catalog = \"https://earth-search.aws.element84.com/v1\"\n",
    "\n",
    "# Create a STAC Client\n",
    "client = Client.open(catalog)\n",
    "\n",
    "# Set up Dask\n",
    "dask_client = DaskClient(n_workers=2, threads_per_worker=16)\n",
    "dask_client"
   ]
  },
  {
   "cell_type": "markdown",
   "metadata": {},
   "source": [
    "### Location and time\n",
    "\n",
    "This step sets up the spatial and temporal extents as well as configuring\n",
    "where the tide model is stored."
   ]
  },
  {
   "cell_type": "code",
   "execution_count": 3,
   "metadata": {},
   "outputs": [],
   "source": [
    "# Find a location you're interested in on Google Maps and copy the coordinates\n",
    "# by right-clicking on the map and clicking the coordinates\n",
    "\n",
    "# These coords are in the order Y then X, or Latitude then Longitude\n",
    "# clear_image = 2\n",
    "\n",
    "coords = 9.9251702,118.7817471,13.79  # Honda Bay, Palawan, Philippines\n",
    "clear_image = 0\n",
    "\n",
    "buffer = 0.1\n",
    "bbox = (coords[1] - buffer, coords[0] - buffer, coords[1] + buffer, coords[0] + buffer)\n",
    "\n",
    "datetime = \"2023/2024\"\n",
    "s2_stretch = {\n",
    "    \"vmin\": 1000,\n",
    "    \"vmax\": 4000,\n",
    "}\n",
    "\n",
    "\n",
    "# Tide data and config\n",
    "home = Path(\"~\")\n",
    "tide_data_location = f\"{home}/tide_models\""
   ]
  },
  {
   "cell_type": "markdown",
   "metadata": {},
   "source": [
    "## Find and load data\n",
    "\n",
    "First, search the STAC API for Sentinel-2 scenes over our study site"
   ]
  },
  {
   "cell_type": "code",
   "execution_count": null,
   "metadata": {},
   "outputs": [],
   "source": [
    "items = client.search(\n",
    "    collections=[\"sentinel-2-c1-l2a\"],\n",
    "    bbox=bbox,\n",
    "    datetime=datetime\n",
    ").item_collection()\n",
    "\n",
    "print(f\"Found {len(items)} STAC items\")"
   ]
  },
  {
   "cell_type": "markdown",
   "metadata": {},
   "source": [
    "### Load\n",
    "\n",
    "Next, we use `odc-stac` to load data."
   ]
  },
  {
   "cell_type": "code",
   "execution_count": null,
   "metadata": {},
   "outputs": [],
   "source": [
    "data = load(\n",
    "    items,\n",
    "    bands=[\"red\", \"green\", \"blue\", \"swir16\", \"cloud\", \"scl\"],\n",
    "    bbox=bbox,\n",
    "    groupby=\"solar_day\",\n",
    "    chunks={\"x\": 2048, \"y\": 2048},\n",
    ")\n",
    "\n",
    "data"
   ]
  },
  {
   "cell_type": "markdown",
   "metadata": {},
   "source": [
    "### Cloud masking\n",
    "\n",
    "Masking out clouds is important, so that we can make a cloud-free mosaic\n",
    "using as many pixels as possible. In the previous example, we selected\n",
    "Landsat scenes that had less than a certain percentage of clouds. This method\n",
    "is good, but potentially loses valuable data by discarding the more cloudy\n",
    "scenes."
   ]
  },
  {
   "cell_type": "code",
   "execution_count": 6,
   "metadata": {},
   "outputs": [],
   "source": [
    "# 1: defective, 3: shadow, 8: med confidence cloud, 9: high confidence cloud, 10: cirrus\n",
    "mask_flags = [1, 3, 8, 9, 10]\n",
    "\n",
    "cloud_mask = data.scl.isin(mask_flags)\n",
    "\n",
    "masked = data.where(~cloud_mask).drop_vars(\"scl\")"
   ]
  },
  {
   "cell_type": "code",
   "execution_count": null,
   "metadata": {},
   "outputs": [],
   "source": [
    "# Let's compare before and after\n",
    "\n",
    "# Before\n",
    "data[[\"red\", \"green\", \"blue\"]].isel(time=clear_image).to_array().plot.imshow(size=8, **s2_stretch)"
   ]
  },
  {
   "cell_type": "code",
   "execution_count": null,
   "metadata": {},
   "outputs": [],
   "source": [
    "# After\n",
    "masked[[\"red\", \"green\", \"blue\"]].isel(time=clear_image).to_array().plot.imshow(size=8, **s2_stretch)"
   ]
  },
  {
   "cell_type": "markdown",
   "metadata": {},
   "source": [
    "### Tide modelling\n",
    "\n",
    "This next cell annotates the data with the height of the tide at\n",
    "the time the scene was captured. We use this information to select\n",
    "the scenes at the top and bottom 30% of tides."
   ]
  },
  {
   "cell_type": "code",
   "execution_count": null,
   "metadata": {},
   "outputs": [],
   "source": [
    "# Annotate the data with the tide height\n",
    "tides_lowres = pixel_tides(\n",
    "    masked, resample=False, directory=tide_data_location, model=\"FES2022\", dask_compute=True\n",
    ")"
   ]
  },
  {
   "cell_type": "code",
   "execution_count": null,
   "metadata": {},
   "outputs": [],
   "source": [
    "lowest, highest = tides_lowres.quantile([0.3, 0.7]).values\n",
    "\n",
    "low_scenes = tides_lowres.where(tides_lowres < lowest, drop=True)\n",
    "high_scenes = tides_lowres.where(tides_lowres > highest, drop=True)\n",
    "\n",
    "data_low = masked.sel(time=low_scenes.time)\n",
    "data_high = masked.sel(time=high_scenes.time)\n",
    "\n",
    "print(f\"Found {len(data_low.time)} low tide days and {len(data_high.time)} high tide days out of {len(data.time)} days\")"
   ]
  },
  {
   "cell_type": "markdown",
   "metadata": {},
   "source": [
    "## Compute and visualise\n",
    "\n",
    "This next cell creates a median of the high or low tide scenes. The\n",
    "function call `compute()` at the end tells Dask to do the work of\n",
    "downloading data and running the computation."
   ]
  },
  {
   "cell_type": "code",
   "execution_count": null,
   "metadata": {},
   "outputs": [],
   "source": [
    "# This will take up to 10 minutes to complete\n",
    "median_low = data_low.median(\"time\").compute()\n",
    "median_high = data_high.median(\"time\").compute()"
   ]
  },
  {
   "cell_type": "markdown",
   "metadata": {},
   "source": [
    "### Visualisation\n",
    "\n",
    "First we are going to visualise just the high-tide scene. If this looks\n",
    "good, the next step is to create an index, which will highlight areas that\n",
    "are likely to be land and water, and we can see the difference between\n",
    "low and high tide clearly. Each visualisation is done using an interactive\n",
    "map."
   ]
  },
  {
   "cell_type": "code",
   "execution_count": null,
   "metadata": {},
   "outputs": [],
   "source": [
    "median_high.odc.explore(**s2_stretch)"
   ]
  },
  {
   "cell_type": "code",
   "execution_count": 13,
   "metadata": {},
   "outputs": [],
   "source": [
    "# Calculate MNDWI\n",
    "median_low[\"mndwi\"] = (median_low.green - median_low.swir16) / (median_low.green + median_low.swir16)\n",
    "median_high[\"mndwi\"] = (median_high.green - median_high.swir16) / (median_high.green + median_high.swir16)"
   ]
  },
  {
   "cell_type": "code",
   "execution_count": null,
   "metadata": {},
   "outputs": [],
   "source": [
    "# Plot LOW and HIGH MNDWI on the same map\n",
    "m = folium.Map()\n",
    "\n",
    "# Add the visual RGB\n",
    "median_low.odc.to_rgba(**s2_stretch).odc.add_to(m, name=\"RGB (low)\")\n",
    "median_high.odc.to_rgba(**s2_stretch).odc.add_to(m, name=\"RGB (high)\")\n",
    "\n",
    "arguments = {\n",
    "    \"cmap\": \"RdBu\",\n",
    "    \"vmin\": -0.5,\n",
    "    \"vmax\": 0.5,\n",
    "}\n",
    "\n",
    "# Plot each sample image with different colormap\n",
    "median_low.mndwi.odc.add_to(m, name=\"MNDWI (low)\", **arguments)\n",
    "median_high.mndwi.odc.add_to(m, name=\"MNDWI (high)\", **arguments)\n",
    "\n",
    "folium.LayerControl().add_to(m)\n",
    "m.fit_bounds(median_low.odc.map_bounds())\n",
    "m"
   ]
  }
 ],
 "metadata": {
  "kernelspec": {
   "display_name": "Python 3",
   "language": "python",
   "name": "python3"
  },
  "language_info": {
   "codemirror_mode": {
    "name": "ipython",
    "version": 3
   },
   "file_extension": ".py",
   "mimetype": "text/x-python",
   "name": "python",
   "nbconvert_exporter": "python",
   "pygments_lexer": "ipython3",
   "version": "3.11.9"
  }
 },
 "nbformat": 4,
 "nbformat_minor": 2
}
